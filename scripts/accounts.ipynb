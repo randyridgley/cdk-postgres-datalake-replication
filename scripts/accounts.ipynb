{
 "cells": [
  {
   "cell_type": "code",
   "execution_count": null,
   "source": [
    "!pip install psycopg2-binary"
   ],
   "outputs": [],
   "metadata": {}
  },
  {
   "cell_type": "code",
   "execution_count": null,
   "source": [
    "conn_string = { 'dbname': 'employee', \n",
    "                'user': 'dbAdmin',\n",
    "                'pwd':'Password from Secrets Manager',\n",
    "                'host': 'RDS Hostname',\n",
    "                'port':5432\n",
    "              }"
   ],
   "outputs": [],
   "metadata": {}
  },
  {
   "cell_type": "code",
   "execution_count": null,
   "source": [
    "import psycopg2\n",
    "\n",
    "def create_conn(config):\n",
    "    try:\n",
    "        # get a connection, if a connect cannot be made an exception will be raised here\n",
    "        con=psycopg2.connect(dbname=config['dbname'], host=config['host'], \n",
    "                              port=config['port'], user=config['user'], \n",
    "                              password=config['pwd'])\n",
    "        return con\n",
    "    except Exception as err:\n",
    "        print(err)\n",
    "\n",
    "con = create_conn(config=conn_string)\n",
    "print(\"Connected to PostgreSQL!\\n\")"
   ],
   "outputs": [],
   "metadata": {}
  },
  {
   "cell_type": "code",
   "execution_count": null,
   "source": [
    "statement = '''CREATE TABLE accounts (\n",
    "user_id serial PRIMARY KEY,\n",
    "username VARCHAR ( 50 ) UNIQUE NOT NULL,\n",
    "password VARCHAR ( 50 ) NOT NULL,\n",
    "email VARCHAR ( 255 ) UNIQUE NOT NULL,\n",
    "created_on TIMESTAMP NOT NULL,\n",
    "last_login TIMESTAMP \n",
    ");'''\n",
    "\n",
    "print(statement)\n",
    "# con.cursor will return a cursor object, you can use this cursor to perform queries\n",
    "cur = con.cursor()\n",
    "cur.execute(statement)\n",
    "con.commit()"
   ],
   "outputs": [],
   "metadata": {}
  },
  {
   "cell_type": "code",
   "execution_count": null,
   "source": [
    "for i in range(100):\n",
    "  statement = f\"INSERT INTO accounts (user_id, username, password, email, created_on) VALUES ({i}, 'test{i}', 'test{i}', 'test{i}@test.com', current_timestamp)\"\n",
    "  print(statement)\n",
    "  cur = con.cursor()\n",
    "  cur.execute(statement)\n",
    "\n",
    "con.commit()"
   ],
   "outputs": [],
   "metadata": {}
  },
  {
   "cell_type": "code",
   "execution_count": null,
   "source": [
    "statement = '''DROP TABLE accounts''';\n",
    "print(statement)\n",
    "# con.cursor will return a cursor object, you can use this cursor to perform queries\n",
    "cur = con.cursor()\n",
    "cur.execute(statement)\n",
    "con.commit()"
   ],
   "outputs": [],
   "metadata": {}
  },
  {
   "cell_type": "code",
   "execution_count": null,
   "source": [],
   "outputs": [],
   "metadata": {}
  }
 ],
 "metadata": {
  "kernelspec": {
   "display_name": "conda_python3",
   "language": "python",
   "name": "conda_python3"
  },
  "language_info": {
   "codemirror_mode": {
    "name": "ipython",
    "version": 3
   },
   "file_extension": ".py",
   "mimetype": "text/x-python",
   "name": "python",
   "nbconvert_exporter": "python",
   "pygments_lexer": "ipython3",
   "version": "3.6.13"
  }
 },
 "nbformat": 4,
 "nbformat_minor": 5
}